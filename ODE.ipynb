{
 "cells": [
  {
   "cell_type": "code",
   "execution_count": 1,
   "metadata": {},
   "outputs": [],
   "source": [
    "using LinearAlgebra\n",
    "using Flux, DiffEqFlux, Optim, DiffEqSensitivity\n",
    "using DifferentialEquations\n",
    "using Plots"
   ]
  },
  {
   "cell_type": "markdown",
   "metadata": {},
   "source": [
    "# $U_{xx} = b $ \n",
    "\n",
    "# $ \\frac{U_{i+1} - 2U_i + U_{i-1}}{\\Delta x^2} = b_i $ \n",
    "\n",
    "## $ AU = B $"
   ]
  },
  {
   "cell_type": "code",
   "execution_count": 9,
   "metadata": {},
   "outputs": [
    {
     "data": {
      "text/plain": [
       "9×9 Array{Float64,2}:\n",
       " -200.0   100.0     0.0     0.0     0.0     0.0     0.0     0.0     0.0\n",
       "  100.0  -200.0   100.0     0.0     0.0     0.0     0.0     0.0     0.0\n",
       "    0.0   100.0  -200.0   100.0     0.0     0.0     0.0     0.0     0.0\n",
       "    0.0     0.0   100.0  -200.0   100.0     0.0     0.0     0.0     0.0\n",
       "    0.0     0.0     0.0   100.0  -200.0   100.0     0.0     0.0     0.0\n",
       "    0.0     0.0     0.0     0.0   100.0  -200.0   100.0     0.0     0.0\n",
       "    0.0     0.0     0.0     0.0     0.0   100.0  -200.0   100.0     0.0\n",
       "    0.0     0.0     0.0     0.0     0.0     0.0   100.0  -200.0   100.0\n",
       "    0.0     0.0     0.0     0.0     0.0     0.0     0.0   100.0  -200.0"
      ]
     },
     "execution_count": 9,
     "metadata": {},
     "output_type": "execute_result"
    }
   ],
   "source": [
    "Δx = 0.1\n",
    "x = Δx:Δx:1-Δx # Solve only for the interior: the endpoints are known to be zero!\n",
    "N = length(x)\n",
    "B = sin.(2π*x)\n",
    "A = zeros(N,N)\n",
    "for i in 1:N, j in 1:N\n",
    "  abs(i-j)<=1 && (A[i,j]+=1)\n",
    "  i==j && (A[i,j]-=3)\n",
    "end\n",
    "A = A/(Δx^2)"
   ]
  },
  {
   "cell_type": "code",
   "execution_count": 16,
   "metadata": {},
   "outputs": [
    {
     "name": "stdout",
     "output_type": "stream",
     "text": [
      "[0.5877852522924731, 0.9510565162951535, 0.9510565162951536, 0.5877852522924732, 1.2246467991473532e-16, -0.587785252292473, -0.9510565162951535, -0.9510565162951536, -0.5877852522924734]"
     ]
    },
    {
     "data": {
      "text/plain": [
       "9-element Array{Float64,1}:\n",
       " -0.015388417685876272\n",
       " -0.02489898284882781\n",
       " -0.024898982848827814\n",
       " -0.015388417685876276\n",
       " -3.700743415417189e-18\n",
       "  0.015388417685876269\n",
       "  0.02489898284882781\n",
       "  0.02489898284882781\n",
       "  0.01538841768587627"
      ]
     },
     "execution_count": 16,
     "metadata": {},
     "output_type": "execute_result"
    }
   ],
   "source": [
    "# Solve AU = B\n",
    "print(B)\n",
    "U = A\\B"
   ]
  },
  {
   "cell_type": "code",
   "execution_count": 19,
   "metadata": {},
   "outputs": [
    {
     "data": {
      "text/plain": [
       "9-element Array{Float64,1}:\n",
       "  1.1755705045849465\n",
       "  1.9021130325903073\n",
       "  1.9021130325903082\n",
       "  1.1755705045849467\n",
       " -9.957992501029599e-17\n",
       " -1.1755705045849458\n",
       " -1.9021130325903073\n",
       " -1.9021130325903075\n",
       " -1.1755705045849463"
      ]
     },
     "execution_count": 19,
     "metadata": {},
     "output_type": "execute_result"
    }
   ],
   "source": [
    "A*U + B"
   ]
  },
  {
   "cell_type": "code",
   "execution_count": 7,
   "metadata": {},
   "outputs": [
    {
     "data": {
      "image/svg+xml": [
       "<?xml version=\"1.0\" encoding=\"utf-8\"?>\n",
       "<svg xmlns=\"http://www.w3.org/2000/svg\" xmlns:xlink=\"http://www.w3.org/1999/xlink\" width=\"600\" height=\"400\" viewBox=\"0 0 2400 1600\">\n",
       "<defs>\n",
       "  <clipPath id=\"clip510\">\n",
       "    <rect x=\"0\" y=\"0\" width=\"2400\" height=\"1600\"/>\n",
       "  </clipPath>\n",
       "</defs>\n",
       "<path clip-path=\"url(#clip510)\" d=\"\n",
       "M0 1600 L2400 1600 L2400 0 L0 0  Z\n",
       "  \" fill=\"#ffffff\" fill-rule=\"evenodd\" fill-opacity=\"1\"/>\n",
       "<defs>\n",
       "  <clipPath id=\"clip511\">\n",
       "    <rect x=\"480\" y=\"0\" width=\"1681\" height=\"1600\"/>\n",
       "  </clipPath>\n",
       "</defs>\n",
       "<path clip-path=\"url(#clip510)\" d=\"\n",
       "M189.237 1486.45 L2352.76 1486.45 L2352.76 47.2441 L189.237 47.2441  Z\n",
       "  \" fill=\"#ffffff\" fill-rule=\"evenodd\" fill-opacity=\"1\"/>\n",
       "<defs>\n",
       "  <clipPath id=\"clip512\">\n",
       "    <rect x=\"189\" y=\"47\" width=\"2165\" height=\"1440\"/>\n",
       "  </clipPath>\n",
       "</defs>\n",
       "<polyline clip-path=\"url(#clip512)\" style=\"stroke:#000000; stroke-width:2; stroke-opacity:0.1; fill:none\" points=\"\n",
       "  250.469,1486.45 250.469,47.2441 \n",
       "  \"/>\n",
       "<polyline clip-path=\"url(#clip512)\" style=\"stroke:#000000; stroke-width:2; stroke-opacity:0.1; fill:none\" points=\"\n",
       "  760.733,1486.45 760.733,47.2441 \n",
       "  \"/>\n",
       "<polyline clip-path=\"url(#clip512)\" style=\"stroke:#000000; stroke-width:2; stroke-opacity:0.1; fill:none\" points=\"\n",
       "  1271,1486.45 1271,47.2441 \n",
       "  \"/>\n",
       "<polyline clip-path=\"url(#clip512)\" style=\"stroke:#000000; stroke-width:2; stroke-opacity:0.1; fill:none\" points=\"\n",
       "  1781.26,1486.45 1781.26,47.2441 \n",
       "  \"/>\n",
       "<polyline clip-path=\"url(#clip512)\" style=\"stroke:#000000; stroke-width:2; stroke-opacity:0.1; fill:none\" points=\"\n",
       "  2291.52,1486.45 2291.52,47.2441 \n",
       "  \"/>\n",
       "<polyline clip-path=\"url(#clip512)\" style=\"stroke:#000000; stroke-width:2; stroke-opacity:0.1; fill:none\" points=\"\n",
       "  189.237,1298.47 2352.76,1298.47 \n",
       "  \"/>\n",
       "<polyline clip-path=\"url(#clip512)\" style=\"stroke:#000000; stroke-width:2; stroke-opacity:0.1; fill:none\" points=\"\n",
       "  189.237,1032.66 2352.76,1032.66 \n",
       "  \"/>\n",
       "<polyline clip-path=\"url(#clip512)\" style=\"stroke:#000000; stroke-width:2; stroke-opacity:0.1; fill:none\" points=\"\n",
       "  189.237,766.846 2352.76,766.846 \n",
       "  \"/>\n",
       "<polyline clip-path=\"url(#clip512)\" style=\"stroke:#000000; stroke-width:2; stroke-opacity:0.1; fill:none\" points=\"\n",
       "  189.237,501.036 2352.76,501.036 \n",
       "  \"/>\n",
       "<polyline clip-path=\"url(#clip512)\" style=\"stroke:#000000; stroke-width:2; stroke-opacity:0.1; fill:none\" points=\"\n",
       "  189.237,235.226 2352.76,235.226 \n",
       "  \"/>\n",
       "<polyline clip-path=\"url(#clip510)\" style=\"stroke:#000000; stroke-width:4; stroke-opacity:1; fill:none\" points=\"\n",
       "  189.237,1486.45 2352.76,1486.45 \n",
       "  \"/>\n",
       "<polyline clip-path=\"url(#clip510)\" style=\"stroke:#000000; stroke-width:4; stroke-opacity:1; fill:none\" points=\"\n",
       "  189.237,1486.45 189.237,47.2441 \n",
       "  \"/>\n",
       "<polyline clip-path=\"url(#clip510)\" style=\"stroke:#000000; stroke-width:4; stroke-opacity:1; fill:none\" points=\"\n",
       "  250.469,1486.45 250.469,1469.18 \n",
       "  \"/>\n",
       "<polyline clip-path=\"url(#clip510)\" style=\"stroke:#000000; stroke-width:4; stroke-opacity:1; fill:none\" points=\"\n",
       "  760.733,1486.45 760.733,1469.18 \n",
       "  \"/>\n",
       "<polyline clip-path=\"url(#clip510)\" style=\"stroke:#000000; stroke-width:4; stroke-opacity:1; fill:none\" points=\"\n",
       "  1271,1486.45 1271,1469.18 \n",
       "  \"/>\n",
       "<polyline clip-path=\"url(#clip510)\" style=\"stroke:#000000; stroke-width:4; stroke-opacity:1; fill:none\" points=\"\n",
       "  1781.26,1486.45 1781.26,1469.18 \n",
       "  \"/>\n",
       "<polyline clip-path=\"url(#clip510)\" style=\"stroke:#000000; stroke-width:4; stroke-opacity:1; fill:none\" points=\"\n",
       "  2291.52,1486.45 2291.52,1469.18 \n",
       "  \"/>\n",
       "<polyline clip-path=\"url(#clip510)\" style=\"stroke:#000000; stroke-width:4; stroke-opacity:1; fill:none\" points=\"\n",
       "  189.237,1298.47 215.199,1298.47 \n",
       "  \"/>\n",
       "<polyline clip-path=\"url(#clip510)\" style=\"stroke:#000000; stroke-width:4; stroke-opacity:1; fill:none\" points=\"\n",
       "  189.237,1032.66 215.199,1032.66 \n",
       "  \"/>\n",
       "<polyline clip-path=\"url(#clip510)\" style=\"stroke:#000000; stroke-width:4; stroke-opacity:1; fill:none\" points=\"\n",
       "  189.237,766.846 215.199,766.846 \n",
       "  \"/>\n",
       "<polyline clip-path=\"url(#clip510)\" style=\"stroke:#000000; stroke-width:4; stroke-opacity:1; fill:none\" points=\"\n",
       "  189.237,501.036 215.199,501.036 \n",
       "  \"/>\n",
       "<polyline clip-path=\"url(#clip510)\" style=\"stroke:#000000; stroke-width:4; stroke-opacity:1; fill:none\" points=\"\n",
       "  189.237,235.226 215.199,235.226 \n",
       "  \"/>\n",
       "<path clip-path=\"url(#clip510)\" d=\"M 0 0 M218.478 1508.44 Q214.867 1508.44 213.038 1512 Q211.233 1515.55 211.233 1522.67 Q211.233 1529.78 213.038 1533.35 Q214.867 1536.89 218.478 1536.89 Q222.112 1536.89 223.918 1533.35 Q225.747 1529.78 225.747 1522.67 Q225.747 1515.55 223.918 1512 Q222.112 1508.44 218.478 1508.44 M218.478 1504.73 Q224.288 1504.73 227.344 1509.34 Q230.422 1513.92 230.422 1522.67 Q230.422 1531.4 227.344 1536.01 Q224.288 1540.59 218.478 1540.59 Q212.668 1540.59 209.589 1536.01 Q206.534 1531.4 206.534 1522.67 Q206.534 1513.92 209.589 1509.34 Q212.668 1504.73 218.478 1504.73 Z\" fill=\"#000000\" fill-rule=\"evenodd\" fill-opacity=\"1\" /><path clip-path=\"url(#clip510)\" d=\"M 0 0 M235.492 1534.04 L240.376 1534.04 L240.376 1539.92 L235.492 1539.92 L235.492 1534.04 Z\" fill=\"#000000\" fill-rule=\"evenodd\" fill-opacity=\"1\" /><path clip-path=\"url(#clip510)\" d=\"M 0 0 M255.445 1508.44 Q251.834 1508.44 250.006 1512 Q248.2 1515.55 248.2 1522.67 Q248.2 1529.78 250.006 1533.35 Q251.834 1536.89 255.445 1536.89 Q259.08 1536.89 260.885 1533.35 Q262.714 1529.78 262.714 1522.67 Q262.714 1515.55 260.885 1512 Q259.08 1508.44 255.445 1508.44 M255.445 1504.73 Q261.256 1504.73 264.311 1509.34 Q267.39 1513.92 267.39 1522.67 Q267.39 1531.4 264.311 1536.01 Q261.256 1540.59 255.445 1540.59 Q249.635 1540.59 246.557 1536.01 Q243.501 1531.4 243.501 1522.67 Q243.501 1513.92 246.557 1509.34 Q249.635 1504.73 255.445 1504.73 Z\" fill=\"#000000\" fill-rule=\"evenodd\" fill-opacity=\"1\" /><path clip-path=\"url(#clip510)\" d=\"M 0 0 M282.459 1508.44 Q278.848 1508.44 277.019 1512 Q275.214 1515.55 275.214 1522.67 Q275.214 1529.78 277.019 1533.35 Q278.848 1536.89 282.459 1536.89 Q286.093 1536.89 287.899 1533.35 Q289.728 1529.78 289.728 1522.67 Q289.728 1515.55 287.899 1512 Q286.093 1508.44 282.459 1508.44 M282.459 1504.73 Q288.269 1504.73 291.325 1509.34 Q294.404 1513.92 294.404 1522.67 Q294.404 1531.4 291.325 1536.01 Q288.269 1540.59 282.459 1540.59 Q276.649 1540.59 273.57 1536.01 Q270.515 1531.4 270.515 1522.67 Q270.515 1513.92 273.57 1509.34 Q276.649 1504.73 282.459 1504.73 Z\" fill=\"#000000\" fill-rule=\"evenodd\" fill-opacity=\"1\" /><path clip-path=\"url(#clip510)\" d=\"M 0 0 M730.038 1508.44 Q726.427 1508.44 724.598 1512 Q722.793 1515.55 722.793 1522.67 Q722.793 1529.78 724.598 1533.35 Q726.427 1536.89 730.038 1536.89 Q733.672 1536.89 735.478 1533.35 Q737.307 1529.78 737.307 1522.67 Q737.307 1515.55 735.478 1512 Q733.672 1508.44 730.038 1508.44 M730.038 1504.73 Q735.848 1504.73 738.904 1509.34 Q741.983 1513.92 741.983 1522.67 Q741.983 1531.4 738.904 1536.01 Q735.848 1540.59 730.038 1540.59 Q724.228 1540.59 721.149 1536.01 Q718.094 1531.4 718.094 1522.67 Q718.094 1513.92 721.149 1509.34 Q724.228 1504.73 730.038 1504.73 Z\" fill=\"#000000\" fill-rule=\"evenodd\" fill-opacity=\"1\" /><path clip-path=\"url(#clip510)\" d=\"M 0 0 M747.052 1534.04 L751.936 1534.04 L751.936 1539.92 L747.052 1539.92 L747.052 1534.04 Z\" fill=\"#000000\" fill-rule=\"evenodd\" fill-opacity=\"1\" /><path clip-path=\"url(#clip510)\" d=\"M 0 0 M761.033 1535.98 L777.353 1535.98 L777.353 1539.92 L755.408 1539.92 L755.408 1535.98 Q758.07 1533.23 762.654 1528.6 Q767.26 1523.95 768.441 1522.61 Q770.686 1520.08 771.566 1518.35 Q772.469 1516.59 772.469 1514.9 Q772.469 1512.14 770.524 1510.41 Q768.603 1508.67 765.501 1508.67 Q763.302 1508.67 760.848 1509.43 Q758.418 1510.2 755.64 1511.75 L755.64 1507.03 Q758.464 1505.89 760.918 1505.31 Q763.371 1504.73 765.408 1504.73 Q770.779 1504.73 773.973 1507.42 Q777.168 1510.11 777.168 1514.6 Q777.168 1516.73 776.357 1518.65 Q775.57 1520.54 773.464 1523.14 Q772.885 1523.81 769.783 1527.03 Q766.682 1530.22 761.033 1535.98 Z\" fill=\"#000000\" fill-rule=\"evenodd\" fill-opacity=\"1\" /><path clip-path=\"url(#clip510)\" d=\"M 0 0 M782.469 1505.36 L800.825 1505.36 L800.825 1509.3 L786.751 1509.3 L786.751 1517.77 Q787.769 1517.42 788.788 1517.26 Q789.806 1517.07 790.825 1517.07 Q796.612 1517.07 799.992 1520.24 Q803.371 1523.42 803.371 1528.83 Q803.371 1534.41 799.899 1537.51 Q796.427 1540.59 790.107 1540.59 Q787.931 1540.59 785.663 1540.22 Q783.418 1539.85 781.01 1539.11 L781.01 1534.41 Q783.094 1535.54 785.316 1536.1 Q787.538 1536.66 790.015 1536.66 Q794.019 1536.66 796.357 1534.55 Q798.695 1532.44 798.695 1528.83 Q798.695 1525.22 796.357 1523.11 Q794.019 1521.01 790.015 1521.01 Q788.14 1521.01 786.265 1521.42 Q784.413 1521.84 782.469 1522.72 L782.469 1505.36 Z\" fill=\"#000000\" fill-rule=\"evenodd\" fill-opacity=\"1\" /><path clip-path=\"url(#clip510)\" d=\"M 0 0 M1239.5 1508.44 Q1235.89 1508.44 1234.06 1512 Q1232.26 1515.55 1232.26 1522.67 Q1232.26 1529.78 1234.06 1533.35 Q1235.89 1536.89 1239.5 1536.89 Q1243.14 1536.89 1244.94 1533.35 Q1246.77 1529.78 1246.77 1522.67 Q1246.77 1515.55 1244.94 1512 Q1243.14 1508.44 1239.5 1508.44 M1239.5 1504.73 Q1245.31 1504.73 1248.37 1509.34 Q1251.45 1513.92 1251.45 1522.67 Q1251.45 1531.4 1248.37 1536.01 Q1245.31 1540.59 1239.5 1540.59 Q1233.69 1540.59 1230.61 1536.01 Q1227.56 1531.4 1227.56 1522.67 Q1227.56 1513.92 1230.61 1509.34 Q1233.69 1504.73 1239.5 1504.73 Z\" fill=\"#000000\" fill-rule=\"evenodd\" fill-opacity=\"1\" /><path clip-path=\"url(#clip510)\" d=\"M 0 0 M1256.52 1534.04 L1261.4 1534.04 L1261.4 1539.92 L1256.52 1539.92 L1256.52 1534.04 Z\" fill=\"#000000\" fill-rule=\"evenodd\" fill-opacity=\"1\" /><path clip-path=\"url(#clip510)\" d=\"M 0 0 M1266.52 1505.36 L1284.87 1505.36 L1284.87 1509.3 L1270.8 1509.3 L1270.8 1517.77 Q1271.82 1517.42 1272.84 1517.26 Q1273.86 1517.07 1274.87 1517.07 Q1280.66 1517.07 1284.04 1520.24 Q1287.42 1523.42 1287.42 1528.83 Q1287.42 1534.41 1283.95 1537.51 Q1280.48 1540.59 1274.16 1540.59 Q1271.98 1540.59 1269.71 1540.22 Q1267.47 1539.85 1265.06 1539.11 L1265.06 1534.41 Q1267.14 1535.54 1269.36 1536.1 Q1271.59 1536.66 1274.06 1536.66 Q1278.07 1536.66 1280.41 1534.55 Q1282.74 1532.44 1282.74 1528.83 Q1282.74 1525.22 1280.41 1523.11 Q1278.07 1521.01 1274.06 1521.01 Q1272.19 1521.01 1270.31 1521.42 Q1268.46 1521.84 1266.52 1522.72 L1266.52 1505.36 Z\" fill=\"#000000\" fill-rule=\"evenodd\" fill-opacity=\"1\" /><path clip-path=\"url(#clip510)\" d=\"M 0 0 M1302.49 1508.44 Q1298.88 1508.44 1297.05 1512 Q1295.24 1515.55 1295.24 1522.67 Q1295.24 1529.78 1297.05 1533.35 Q1298.88 1536.89 1302.49 1536.89 Q1306.12 1536.89 1307.93 1533.35 Q1309.76 1529.78 1309.76 1522.67 Q1309.76 1515.55 1307.93 1512 Q1306.12 1508.44 1302.49 1508.44 M1302.49 1504.73 Q1308.3 1504.73 1311.36 1509.34 Q1314.43 1513.92 1314.43 1522.67 Q1314.43 1531.4 1311.36 1536.01 Q1308.3 1540.59 1302.49 1540.59 Q1296.68 1540.59 1293.6 1536.01 Q1290.54 1531.4 1290.54 1522.67 Q1290.54 1513.92 1293.6 1509.34 Q1296.68 1504.73 1302.49 1504.73 Z\" fill=\"#000000\" fill-rule=\"evenodd\" fill-opacity=\"1\" /><path clip-path=\"url(#clip510)\" d=\"M 0 0 M1750.22 1508.44 Q1746.61 1508.44 1744.78 1512 Q1742.97 1515.55 1742.97 1522.67 Q1742.97 1529.78 1744.78 1533.35 Q1746.61 1536.89 1750.22 1536.89 Q1753.85 1536.89 1755.66 1533.35 Q1757.49 1529.78 1757.49 1522.67 Q1757.49 1515.55 1755.66 1512 Q1753.85 1508.44 1750.22 1508.44 M1750.22 1504.73 Q1756.03 1504.73 1759.08 1509.34 Q1762.16 1513.92 1762.16 1522.67 Q1762.16 1531.4 1759.08 1536.01 Q1756.03 1540.59 1750.22 1540.59 Q1744.41 1540.59 1741.33 1536.01 Q1738.27 1531.4 1738.27 1522.67 Q1738.27 1513.92 1741.33 1509.34 Q1744.41 1504.73 1750.22 1504.73 Z\" fill=\"#000000\" fill-rule=\"evenodd\" fill-opacity=\"1\" /><path clip-path=\"url(#clip510)\" d=\"M 0 0 M1767.23 1534.04 L1772.12 1534.04 L1772.12 1539.92 L1767.23 1539.92 L1767.23 1534.04 Z\" fill=\"#000000\" fill-rule=\"evenodd\" fill-opacity=\"1\" /><path clip-path=\"url(#clip510)\" d=\"M 0 0 M1776.01 1505.36 L1798.23 1505.36 L1798.23 1507.35 L1785.68 1539.92 L1780.8 1539.92 L1792.6 1509.3 L1776.01 1509.3 L1776.01 1505.36 Z\" fill=\"#000000\" fill-rule=\"evenodd\" fill-opacity=\"1\" /><path clip-path=\"url(#clip510)\" d=\"M 0 0 M1803.34 1505.36 L1821.7 1505.36 L1821.7 1509.3 L1807.63 1509.3 L1807.63 1517.77 Q1808.64 1517.42 1809.66 1517.26 Q1810.68 1517.07 1811.7 1517.07 Q1817.49 1517.07 1820.87 1520.24 Q1824.25 1523.42 1824.25 1528.83 Q1824.25 1534.41 1820.77 1537.51 Q1817.3 1540.59 1810.98 1540.59 Q1808.81 1540.59 1806.54 1540.22 Q1804.29 1539.85 1801.89 1539.11 L1801.89 1534.41 Q1803.97 1535.54 1806.19 1536.1 Q1808.41 1536.66 1810.89 1536.66 Q1814.89 1536.66 1817.23 1534.55 Q1819.57 1532.44 1819.57 1528.83 Q1819.57 1525.22 1817.23 1523.11 Q1814.89 1521.01 1810.89 1521.01 Q1809.01 1521.01 1807.14 1521.42 Q1805.29 1521.84 1803.34 1522.72 L1803.34 1505.36 Z\" fill=\"#000000\" fill-rule=\"evenodd\" fill-opacity=\"1\" /><path clip-path=\"url(#clip510)\" d=\"M 0 0 M2249.92 1535.98 L2257.55 1535.98 L2257.55 1509.62 L2249.24 1511.29 L2249.24 1507.03 L2257.51 1505.36 L2262.18 1505.36 L2262.18 1535.98 L2269.82 1535.98 L2269.82 1539.92 L2249.92 1539.92 L2249.92 1535.98 Z\" fill=\"#000000\" fill-rule=\"evenodd\" fill-opacity=\"1\" /><path clip-path=\"url(#clip510)\" d=\"M 0 0 M2274.89 1534.04 L2279.78 1534.04 L2279.78 1539.92 L2274.89 1539.92 L2274.89 1534.04 Z\" fill=\"#000000\" fill-rule=\"evenodd\" fill-opacity=\"1\" /><path clip-path=\"url(#clip510)\" d=\"M 0 0 M2294.85 1508.44 Q2291.23 1508.44 2289.41 1512 Q2287.6 1515.55 2287.6 1522.67 Q2287.6 1529.78 2289.41 1533.35 Q2291.23 1536.89 2294.85 1536.89 Q2298.48 1536.89 2300.29 1533.35 Q2302.11 1529.78 2302.11 1522.67 Q2302.11 1515.55 2300.29 1512 Q2298.48 1508.44 2294.85 1508.44 M2294.85 1504.73 Q2300.66 1504.73 2303.71 1509.34 Q2306.79 1513.92 2306.79 1522.67 Q2306.79 1531.4 2303.71 1536.01 Q2300.66 1540.59 2294.85 1540.59 Q2289.04 1540.59 2285.96 1536.01 Q2282.9 1531.4 2282.9 1522.67 Q2282.9 1513.92 2285.96 1509.34 Q2289.04 1504.73 2294.85 1504.73 Z\" fill=\"#000000\" fill-rule=\"evenodd\" fill-opacity=\"1\" /><path clip-path=\"url(#clip510)\" d=\"M 0 0 M2321.86 1508.44 Q2318.25 1508.44 2316.42 1512 Q2314.61 1515.55 2314.61 1522.67 Q2314.61 1529.78 2316.42 1533.35 Q2318.25 1536.89 2321.86 1536.89 Q2325.49 1536.89 2327.3 1533.35 Q2329.13 1529.78 2329.13 1522.67 Q2329.13 1515.55 2327.3 1512 Q2325.49 1508.44 2321.86 1508.44 M2321.86 1504.73 Q2327.67 1504.73 2330.73 1509.34 Q2333.8 1513.92 2333.8 1522.67 Q2333.8 1531.4 2330.73 1536.01 Q2327.67 1540.59 2321.86 1540.59 Q2316.05 1540.59 2312.97 1536.01 Q2309.92 1531.4 2309.92 1522.67 Q2309.92 1513.92 2312.97 1509.34 Q2316.05 1504.73 2321.86 1504.73 Z\" fill=\"#000000\" fill-rule=\"evenodd\" fill-opacity=\"1\" /><path clip-path=\"url(#clip510)\" d=\"M 0 0 M63.3625 1300.86 L75.8393 1300.86 L75.8393 1304.66 L63.3625 1304.66 L63.3625 1300.86 Z\" fill=\"#000000\" fill-rule=\"evenodd\" fill-opacity=\"1\" /><path clip-path=\"url(#clip510)\" d=\"M 0 0 M90.9086 1284.26 Q87.2976 1284.26 85.4689 1287.83 Q83.6633 1291.37 83.6633 1298.5 Q83.6633 1305.61 85.4689 1309.17 Q87.2976 1312.71 90.9086 1312.71 Q94.5429 1312.71 96.3484 1309.17 Q98.1771 1305.61 98.1771 1298.5 Q98.1771 1291.37 96.3484 1287.83 Q94.5429 1284.26 90.9086 1284.26 M90.9086 1280.56 Q96.7188 1280.56 99.7743 1285.17 Q102.853 1289.75 102.853 1298.5 Q102.853 1307.23 99.7743 1311.83 Q96.7188 1316.42 90.9086 1316.42 Q85.0985 1316.42 82.0198 1311.83 Q78.9643 1307.23 78.9643 1298.5 Q78.9643 1289.75 82.0198 1285.17 Q85.0985 1280.56 90.9086 1280.56 Z\" fill=\"#000000\" fill-rule=\"evenodd\" fill-opacity=\"1\" /><path clip-path=\"url(#clip510)\" d=\"M 0 0 M107.922 1309.87 L112.807 1309.87 L112.807 1315.75 L107.922 1315.75 L107.922 1309.87 Z\" fill=\"#000000\" fill-rule=\"evenodd\" fill-opacity=\"1\" /><path clip-path=\"url(#clip510)\" d=\"M 0 0 M127.876 1284.26 Q124.265 1284.26 122.436 1287.83 Q120.631 1291.37 120.631 1298.5 Q120.631 1305.61 122.436 1309.17 Q124.265 1312.71 127.876 1312.71 Q131.51 1312.71 133.316 1309.17 Q135.145 1305.61 135.145 1298.5 Q135.145 1291.37 133.316 1287.83 Q131.51 1284.26 127.876 1284.26 M127.876 1280.56 Q133.686 1280.56 136.742 1285.17 Q139.82 1289.75 139.82 1298.5 Q139.82 1307.23 136.742 1311.83 Q133.686 1316.42 127.876 1316.42 Q122.066 1316.42 118.987 1311.83 Q115.932 1307.23 115.932 1298.5 Q115.932 1289.75 118.987 1285.17 Q122.066 1280.56 127.876 1280.56 Z\" fill=\"#000000\" fill-rule=\"evenodd\" fill-opacity=\"1\" /><path clip-path=\"url(#clip510)\" d=\"M 0 0 M148.918 1311.81 L165.237 1311.81 L165.237 1315.75 L143.293 1315.75 L143.293 1311.81 Q145.955 1309.06 150.538 1304.43 Q155.144 1299.77 156.325 1298.43 Q158.57 1295.91 159.45 1294.17 Q160.353 1292.41 160.353 1290.72 Q160.353 1287.97 158.408 1286.23 Q156.487 1284.5 153.385 1284.5 Q151.186 1284.5 148.732 1285.26 Q146.302 1286.02 143.524 1287.57 L143.524 1282.85 Q146.348 1281.72 148.802 1281.14 Q151.256 1280.56 153.293 1280.56 Q158.663 1280.56 161.857 1283.25 Q165.052 1285.93 165.052 1290.42 Q165.052 1292.55 164.242 1294.47 Q163.455 1296.37 161.348 1298.96 Q160.769 1299.63 157.668 1302.85 Q154.566 1306.05 148.918 1311.81 Z\" fill=\"#000000\" fill-rule=\"evenodd\" fill-opacity=\"1\" /><path clip-path=\"url(#clip510)\" d=\"M 0 0 M62.9921 1035.05 L75.4689 1035.05 L75.4689 1038.85 L62.9921 1038.85 L62.9921 1035.05 Z\" fill=\"#000000\" fill-rule=\"evenodd\" fill-opacity=\"1\" /><path clip-path=\"url(#clip510)\" d=\"M 0 0 M90.5383 1018.45 Q86.9272 1018.45 85.0985 1022.02 Q83.2929 1025.56 83.2929 1032.69 Q83.2929 1039.8 85.0985 1043.36 Q86.9272 1046.9 90.5383 1046.9 Q94.1725 1046.9 95.9781 1043.36 Q97.8068 1039.8 97.8068 1032.69 Q97.8068 1025.56 95.9781 1022.02 Q94.1725 1018.45 90.5383 1018.45 M90.5383 1014.75 Q96.3484 1014.75 99.404 1019.36 Q102.483 1023.94 102.483 1032.69 Q102.483 1041.42 99.404 1046.02 Q96.3484 1050.61 90.5383 1050.61 Q84.7281 1050.61 81.6494 1046.02 Q78.5939 1041.42 78.5939 1032.69 Q78.5939 1023.94 81.6494 1019.36 Q84.7281 1014.75 90.5383 1014.75 Z\" fill=\"#000000\" fill-rule=\"evenodd\" fill-opacity=\"1\" /><path clip-path=\"url(#clip510)\" d=\"M 0 0 M107.552 1044.06 L112.436 1044.06 L112.436 1049.94 L107.552 1049.94 L107.552 1044.06 Z\" fill=\"#000000\" fill-rule=\"evenodd\" fill-opacity=\"1\" /><path clip-path=\"url(#clip510)\" d=\"M 0 0 M127.506 1018.45 Q123.895 1018.45 122.066 1022.02 Q120.26 1025.56 120.26 1032.69 Q120.26 1039.8 122.066 1043.36 Q123.895 1046.9 127.506 1046.9 Q131.14 1046.9 132.945 1043.36 Q134.774 1039.8 134.774 1032.69 Q134.774 1025.56 132.945 1022.02 Q131.14 1018.45 127.506 1018.45 M127.506 1014.75 Q133.316 1014.75 136.371 1019.36 Q139.45 1023.94 139.45 1032.69 Q139.45 1041.42 136.371 1046.02 Q133.316 1050.61 127.506 1050.61 Q121.696 1050.61 118.617 1046.02 Q115.561 1041.42 115.561 1032.69 Q115.561 1023.94 118.617 1019.36 Q121.696 1014.75 127.506 1014.75 Z\" fill=\"#000000\" fill-rule=\"evenodd\" fill-opacity=\"1\" /><path clip-path=\"url(#clip510)\" d=\"M 0 0 M145.33 1046 L152.968 1046 L152.968 1019.64 L144.658 1021.3 L144.658 1017.04 L152.922 1015.38 L157.598 1015.38 L157.598 1046 L165.237 1046 L165.237 1049.94 L145.33 1049.94 L145.33 1046 Z\" fill=\"#000000\" fill-rule=\"evenodd\" fill-opacity=\"1\" /><path clip-path=\"url(#clip510)\" d=\"M 0 0 M89.3114 752.645 Q85.7003 752.645 83.8716 756.209 Q82.0661 759.751 82.0661 766.881 Q82.0661 773.987 83.8716 777.552 Q85.7003 781.094 89.3114 781.094 Q92.9457 781.094 94.7512 777.552 Q96.5799 773.987 96.5799 766.881 Q96.5799 759.751 94.7512 756.209 Q92.9457 752.645 89.3114 752.645 M89.3114 748.941 Q95.1216 748.941 98.1771 753.547 Q101.256 758.131 101.256 766.881 Q101.256 775.608 98.1771 780.214 Q95.1216 784.797 89.3114 784.797 Q83.5013 784.797 80.4226 780.214 Q77.367 775.608 77.367 766.881 Q77.367 758.131 80.4226 753.547 Q83.5013 748.941 89.3114 748.941 Z\" fill=\"#000000\" fill-rule=\"evenodd\" fill-opacity=\"1\" /><path clip-path=\"url(#clip510)\" d=\"M 0 0 M106.325 778.246 L111.209 778.246 L111.209 784.126 L106.325 784.126 L106.325 778.246 Z\" fill=\"#000000\" fill-rule=\"evenodd\" fill-opacity=\"1\" /><path clip-path=\"url(#clip510)\" d=\"M 0 0 M126.279 752.645 Q122.668 752.645 120.839 756.209 Q119.033 759.751 119.033 766.881 Q119.033 773.987 120.839 777.552 Q122.668 781.094 126.279 781.094 Q129.913 781.094 131.719 777.552 Q133.547 773.987 133.547 766.881 Q133.547 759.751 131.719 756.209 Q129.913 752.645 126.279 752.645 M126.279 748.941 Q132.089 748.941 135.145 753.547 Q138.223 758.131 138.223 766.881 Q138.223 775.608 135.145 780.214 Q132.089 784.797 126.279 784.797 Q120.469 784.797 117.39 780.214 Q114.334 775.608 114.334 766.881 Q114.334 758.131 117.39 753.547 Q120.469 748.941 126.279 748.941 Z\" fill=\"#000000\" fill-rule=\"evenodd\" fill-opacity=\"1\" /><path clip-path=\"url(#clip510)\" d=\"M 0 0 M153.293 752.645 Q149.681 752.645 147.853 756.209 Q146.047 759.751 146.047 766.881 Q146.047 773.987 147.853 777.552 Q149.681 781.094 153.293 781.094 Q156.927 781.094 158.732 777.552 Q160.561 773.987 160.561 766.881 Q160.561 759.751 158.732 756.209 Q156.927 752.645 153.293 752.645 M153.293 748.941 Q159.103 748.941 162.158 753.547 Q165.237 758.131 165.237 766.881 Q165.237 775.608 162.158 780.214 Q159.103 784.797 153.293 784.797 Q147.482 784.797 144.404 780.214 Q141.348 775.608 141.348 766.881 Q141.348 758.131 144.404 753.547 Q147.482 748.941 153.293 748.941 Z\" fill=\"#000000\" fill-rule=\"evenodd\" fill-opacity=\"1\" /><path clip-path=\"url(#clip510)\" d=\"M 0 0 M90.5383 486.835 Q86.9272 486.835 85.0985 490.399 Q83.2929 493.941 83.2929 501.071 Q83.2929 508.177 85.0985 511.742 Q86.9272 515.284 90.5383 515.284 Q94.1725 515.284 95.9781 511.742 Q97.8068 508.177 97.8068 501.071 Q97.8068 493.941 95.9781 490.399 Q94.1725 486.835 90.5383 486.835 M90.5383 483.131 Q96.3484 483.131 99.404 487.737 Q102.483 492.321 102.483 501.071 Q102.483 509.798 99.404 514.404 Q96.3484 518.987 90.5383 518.987 Q84.7281 518.987 81.6494 514.404 Q78.5939 509.798 78.5939 501.071 Q78.5939 492.321 81.6494 487.737 Q84.7281 483.131 90.5383 483.131 Z\" fill=\"#000000\" fill-rule=\"evenodd\" fill-opacity=\"1\" /><path clip-path=\"url(#clip510)\" d=\"M 0 0 M107.552 512.436 L112.436 512.436 L112.436 518.316 L107.552 518.316 L107.552 512.436 Z\" fill=\"#000000\" fill-rule=\"evenodd\" fill-opacity=\"1\" /><path clip-path=\"url(#clip510)\" d=\"M 0 0 M127.506 486.835 Q123.895 486.835 122.066 490.399 Q120.26 493.941 120.26 501.071 Q120.26 508.177 122.066 511.742 Q123.895 515.284 127.506 515.284 Q131.14 515.284 132.945 511.742 Q134.774 508.177 134.774 501.071 Q134.774 493.941 132.945 490.399 Q131.14 486.835 127.506 486.835 M127.506 483.131 Q133.316 483.131 136.371 487.737 Q139.45 492.321 139.45 501.071 Q139.45 509.798 136.371 514.404 Q133.316 518.987 127.506 518.987 Q121.696 518.987 118.617 514.404 Q115.561 509.798 115.561 501.071 Q115.561 492.321 118.617 487.737 Q121.696 483.131 127.506 483.131 Z\" fill=\"#000000\" fill-rule=\"evenodd\" fill-opacity=\"1\" /><path clip-path=\"url(#clip510)\" d=\"M 0 0 M145.33 514.381 L152.968 514.381 L152.968 488.015 L144.658 489.682 L144.658 485.423 L152.922 483.756 L157.598 483.756 L157.598 514.381 L165.237 514.381 L165.237 518.316 L145.33 518.316 L145.33 514.381 Z\" fill=\"#000000\" fill-rule=\"evenodd\" fill-opacity=\"1\" /><path clip-path=\"url(#clip510)\" d=\"M 0 0 M90.9086 221.025 Q87.2976 221.025 85.4689 224.589 Q83.6633 228.131 83.6633 235.261 Q83.6633 242.367 85.4689 245.932 Q87.2976 249.474 90.9086 249.474 Q94.5429 249.474 96.3484 245.932 Q98.1771 242.367 98.1771 235.261 Q98.1771 228.131 96.3484 224.589 Q94.5429 221.025 90.9086 221.025 M90.9086 217.321 Q96.7188 217.321 99.7743 221.927 Q102.853 226.511 102.853 235.261 Q102.853 243.988 99.7743 248.594 Q96.7188 253.177 90.9086 253.177 Q85.0985 253.177 82.0198 248.594 Q78.9643 243.988 78.9643 235.261 Q78.9643 226.511 82.0198 221.927 Q85.0985 217.321 90.9086 217.321 Z\" fill=\"#000000\" fill-rule=\"evenodd\" fill-opacity=\"1\" /><path clip-path=\"url(#clip510)\" d=\"M 0 0 M107.922 246.626 L112.807 246.626 L112.807 252.506 L107.922 252.506 L107.922 246.626 Z\" fill=\"#000000\" fill-rule=\"evenodd\" fill-opacity=\"1\" /><path clip-path=\"url(#clip510)\" d=\"M 0 0 M127.876 221.025 Q124.265 221.025 122.436 224.589 Q120.631 228.131 120.631 235.261 Q120.631 242.367 122.436 245.932 Q124.265 249.474 127.876 249.474 Q131.51 249.474 133.316 245.932 Q135.145 242.367 135.145 235.261 Q135.145 228.131 133.316 224.589 Q131.51 221.025 127.876 221.025 M127.876 217.321 Q133.686 217.321 136.742 221.927 Q139.82 226.511 139.82 235.261 Q139.82 243.988 136.742 248.594 Q133.686 253.177 127.876 253.177 Q122.066 253.177 118.987 248.594 Q115.932 243.988 115.932 235.261 Q115.932 226.511 118.987 221.927 Q122.066 217.321 127.876 217.321 Z\" fill=\"#000000\" fill-rule=\"evenodd\" fill-opacity=\"1\" /><path clip-path=\"url(#clip510)\" d=\"M 0 0 M148.918 248.571 L165.237 248.571 L165.237 252.506 L143.293 252.506 L143.293 248.571 Q145.955 245.816 150.538 241.187 Q155.144 236.534 156.325 235.191 Q158.57 232.668 159.45 230.932 Q160.353 229.173 160.353 227.483 Q160.353 224.728 158.408 222.992 Q156.487 221.256 153.385 221.256 Q151.186 221.256 148.732 222.02 Q146.302 222.784 143.524 224.335 L143.524 219.613 Q146.348 218.478 148.802 217.9 Q151.256 217.321 153.293 217.321 Q158.663 217.321 161.857 220.006 Q165.052 222.691 165.052 227.182 Q165.052 229.312 164.242 231.233 Q163.455 233.131 161.348 235.724 Q160.769 236.395 157.668 239.613 Q154.566 242.807 148.918 248.571 Z\" fill=\"#000000\" fill-rule=\"evenodd\" fill-opacity=\"1\" /><polyline clip-path=\"url(#clip512)\" style=\"stroke:#009af9; stroke-width:4; stroke-opacity:1; fill:none\" points=\"\n",
       "  250.469,766.846 352.521,976.628 454.574,1165.88 556.627,1316.06 658.68,1412.49 760.733,1445.72 862.785,1412.49 964.838,1316.06 1066.89,1165.88 1168.94,976.628 \n",
       "  1271,766.846 1373.05,557.064 1475.1,367.816 1577.15,217.629 1679.21,121.203 1781.26,87.9763 1883.31,121.203 1985.37,217.629 2087.42,367.816 2189.47,557.064 \n",
       "  2291.52,766.846 \n",
       "  \"/>\n",
       "<path clip-path=\"url(#clip510)\" d=\"\n",
       "M2014.3 251.724 L2280.76 251.724 L2280.76 130.764 L2014.3 130.764  Z\n",
       "  \" fill=\"#ffffff\" fill-rule=\"evenodd\" fill-opacity=\"1\"/>\n",
       "<polyline clip-path=\"url(#clip510)\" style=\"stroke:#000000; stroke-width:4; stroke-opacity:1; fill:none\" points=\"\n",
       "  2014.3,251.724 2280.76,251.724 2280.76,130.764 2014.3,130.764 2014.3,251.724 \n",
       "  \"/>\n",
       "<polyline clip-path=\"url(#clip510)\" style=\"stroke:#009af9; stroke-width:4; stroke-opacity:1; fill:none\" points=\"\n",
       "  2038.3,191.244 2182.3,191.244 \n",
       "  \"/>\n",
       "<path clip-path=\"url(#clip510)\" d=\"M 0 0 M2206.3 173.964 L2211 173.964 L2211 194.959 Q2211 200.515 2213.01 202.969 Q2215.02 205.399 2219.54 205.399 Q2224.03 205.399 2226.04 202.969 Q2228.06 200.515 2228.06 194.959 L2228.06 173.964 L2232.76 173.964 L2232.76 195.538 Q2232.76 202.297 2229.4 205.746 Q2226.07 209.195 2219.54 209.195 Q2212.99 209.195 2209.63 205.746 Q2206.3 202.297 2206.3 195.538 L2206.3 173.964 Z\" fill=\"#000000\" fill-rule=\"evenodd\" fill-opacity=\"1\" /></svg>\n"
      ]
     },
     "execution_count": 7,
     "metadata": {},
     "output_type": "execute_result"
    }
   ],
   "source": [
    "plot([0;x;1],[0;U;0],label=\"U\")"
   ]
  },
  {
   "cell_type": "markdown",
   "metadata": {},
   "source": [
    "# First order ordinary differential equation\n",
    "\n",
    "$ U_t = cos(2\\pi*t) $"
   ]
  },
  {
   "cell_type": "code",
   "execution_count": 103,
   "metadata": {},
   "outputs": [
    {
     "data": {
      "text/plain": [
       "retcode: Success\n",
       "Interpolation: 1st order linear\n",
       "t: 101-element Array{Float64,1}:\n",
       " 0.0\n",
       " 0.01\n",
       " 0.02\n",
       " 0.03\n",
       " 0.04\n",
       " 0.05\n",
       " 0.06\n",
       " 0.07\n",
       " 0.08\n",
       " 0.09\n",
       " 0.1\n",
       " 0.11\n",
       " 0.12\n",
       " ⋮\n",
       " 0.89\n",
       " 0.9\n",
       " 0.91\n",
       " 0.92\n",
       " 0.93\n",
       " 0.94\n",
       " 0.95\n",
       " 0.96\n",
       " 0.97\n",
       " 0.98\n",
       " 0.99\n",
       " 1.0\n",
       "u: 101-element Array{Float64,1}:\n",
       "  0.0\n",
       "  0.009993421557959131\n",
       "  0.0199474104796705\n",
       "  0.02982266226029898\n",
       "  0.03958022071476719\n",
       "  0.04918159908447919\n",
       "  0.0585889419552788\n",
       "  0.06776496904735094\n",
       "  0.07667347363811446\n",
       "  0.085279408254235\n",
       "  0.09354888467162477\n",
       "  0.10144918757988716\n",
       "  0.10894925106736848\n",
       "  ⋮\n",
       " -0.10147110085573988\n",
       " -0.0935774116158272\n",
       " -0.08531150365240167\n",
       " -0.07670552093171203\n",
       " -0.06779339229969251\n",
       " -0.0586108314819608\n",
       " -0.0491953370838225\n",
       " -0.039586192590264566\n",
       " -0.02982446636596295\n",
       " -0.019949141856243236\n",
       " -0.009995163936678\n",
       " -1.7408063988183247e-6"
      ]
     },
     "execution_count": 103,
     "metadata": {},
     "output_type": "execute_result"
    }
   ],
   "source": [
    "function f(u,p,t)\n",
    "    A, b = p\n",
    "    cos(2*pi*t)\n",
    "end\n",
    "\n",
    "u0 = 0.0\n",
    "tspan = (0.0,1.0)\n",
    "p = [A, B]\n",
    "prob = ODEProblem(f,u0,tspan, p, saveat=0.01)\n",
    "sol = solve(prob)"
   ]
  },
  {
   "cell_type": "code",
   "execution_count": 104,
   "metadata": {},
   "outputs": [
    {
     "data": {
      "image/png": "[encoded data removed]"
     },
     "execution_count": 104,
     "metadata": {},
     "output_type": "execute_result"
    }
   ],
   "source": [
    "plot(sol)"
   ]
  }
 ],
 "metadata": {
  "kernelspec": {
   "display_name": "Julia 1.4.2",
   "language": "julia",
   "name": "julia-1.4"
  },
  "language_info": {
   "file_extension": ".jl",
   "mimetype": "application/julia",
   "name": "julia",
   "version": "1.4.2"
  }
 },
 "nbformat": 4,
 "nbformat_minor": 4
}
